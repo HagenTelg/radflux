{
 "cells": [
  {
   "cell_type": "code",
   "execution_count": null,
   "id": "721b931f-d755-4c21-9870-0ce5269500ec",
   "metadata": {},
   "outputs": [],
   "source": []
  },
  {
   "cell_type": "code",
   "execution_count": null,
   "id": "769832e5-6a53-4286-bc93-733baeaf2fdd",
   "metadata": {},
   "outputs": [],
   "source": []
  },
  {
   "cell_type": "markdown",
   "id": "e8ec3705-aaef-4236-8b21-25923d463c97",
   "metadata": {},
   "source": [
    "# Convert to netcdf"
   ]
  },
  {
   "cell_type": "code",
   "execution_count": 1,
   "id": "9eb4c9dd-2133-48a4-b19a-fd5214519c50",
   "metadata": {},
   "outputs": [],
   "source": [
    "import surfradpy.radflux2netcdf as srpradflux"
   ]
  },
  {
   "cell_type": "code",
   "execution_count": 18,
   "id": "bf0dedcd-055c-4795-b7da-6a46de2f9144",
   "metadata": {},
   "outputs": [
    {
     "data": {
      "text/plain": [
       "<module 'surfradpy.radflux2netcdf' from '/home/hagen/prog/SURFRAD/surfradpy/radflux2netcdf.py'>"
      ]
     },
     "execution_count": 18,
     "metadata": {},
     "output_type": "execute_result"
    }
   ],
   "source": [
    "reload(srpradflux)"
   ]
  },
  {
   "cell_type": "code",
   "execution_count": null,
   "id": "e7b80755-3942-4a3f-a665-73e2a2a5a4cd",
   "metadata": {},
   "outputs": [],
   "source": [
    "Process "
   ]
  },
  {
   "cell_type": "code",
   "execution_count": 19,
   "id": "b98473e0-06df-4677-a659-e8c4b5e0f019",
   "metadata": {},
   "outputs": [],
   "source": [
    "con = srpradflux.Convert(\n",
    "            path2fld_in='/home/hagen/data/grad/surfrad/radflux/',\n",
    "            path2fld_out='/home/hagen/data/grad/surfrad/radflux_nc/v{version}/',\n",
    "            sites=['tbl'],#, 'dra', 'fpk', 'gwn', 'psu', 'sxf', 'bon'],\n",
    "            file_extension = 'lw1',\n",
    "            start=None,\n",
    "            overwrite=False,\n",
    "            reporter=None,\n",
    "        )"
   ]
  },
  {
   "cell_type": "code",
   "execution_count": 20,
   "id": "7e93345b-9b3f-4f01-8d09-2664b465b59e",
   "metadata": {},
   "outputs": [
    {
     "name": "stdout",
     "output_type": "stream",
     "text": [
      "checking: /home/hagen/data/grad/surfrad/radflux/v1.0\n",
      "v1.0 not in ['tbl']\n",
      "checking: /home/hagen/data/grad/surfrad/radflux/tbl\n"
     ]
    },
    {
     "data": {
      "text/html": [
       "<div>\n",
       "<style scoped>\n",
       "    .dataframe tbody tr th:only-of-type {\n",
       "        vertical-align: middle;\n",
       "    }\n",
       "\n",
       "    .dataframe tbody tr th {\n",
       "        vertical-align: top;\n",
       "    }\n",
       "\n",
       "    .dataframe thead th {\n",
       "        text-align: right;\n",
       "    }\n",
       "</style>\n",
       "<table border=\"1\" class=\"dataframe\">\n",
       "  <thead>\n",
       "    <tr style=\"text-align: right;\">\n",
       "      <th></th>\n",
       "      <th>p2f_in</th>\n",
       "      <th>site</th>\n",
       "      <th>p2f_out</th>\n",
       "    </tr>\n",
       "    <tr>\n",
       "      <th>date</th>\n",
       "      <th></th>\n",
       "      <th></th>\n",
       "      <th></th>\n",
       "    </tr>\n",
       "  </thead>\n",
       "  <tbody>\n",
       "    <tr>\n",
       "      <th>1995-08-01</th>\n",
       "      <td>/home/hagen/data/grad/surfrad/radflux/tbl/1995...</td>\n",
       "      <td>tbl</td>\n",
       "      <td>/home/hagen/data/grad/surfrad/radflux_nc/v1.0/...</td>\n",
       "    </tr>\n",
       "    <tr>\n",
       "      <th>1995-08-02</th>\n",
       "      <td>/home/hagen/data/grad/surfrad/radflux/tbl/1995...</td>\n",
       "      <td>tbl</td>\n",
       "      <td>/home/hagen/data/grad/surfrad/radflux_nc/v1.0/...</td>\n",
       "    </tr>\n",
       "    <tr>\n",
       "      <th>1995-08-03</th>\n",
       "      <td>/home/hagen/data/grad/surfrad/radflux/tbl/1995...</td>\n",
       "      <td>tbl</td>\n",
       "      <td>/home/hagen/data/grad/surfrad/radflux_nc/v1.0/...</td>\n",
       "    </tr>\n",
       "    <tr>\n",
       "      <th>1995-08-04</th>\n",
       "      <td>/home/hagen/data/grad/surfrad/radflux/tbl/1995...</td>\n",
       "      <td>tbl</td>\n",
       "      <td>/home/hagen/data/grad/surfrad/radflux_nc/v1.0/...</td>\n",
       "    </tr>\n",
       "    <tr>\n",
       "      <th>1995-08-05</th>\n",
       "      <td>/home/hagen/data/grad/surfrad/radflux/tbl/1995...</td>\n",
       "      <td>tbl</td>\n",
       "      <td>/home/hagen/data/grad/surfrad/radflux_nc/v1.0/...</td>\n",
       "    </tr>\n",
       "    <tr>\n",
       "      <th>...</th>\n",
       "      <td>...</td>\n",
       "      <td>...</td>\n",
       "      <td>...</td>\n",
       "    </tr>\n",
       "    <tr>\n",
       "      <th>2025-06-18</th>\n",
       "      <td>/home/hagen/data/grad/surfrad/radflux/tbl/2025...</td>\n",
       "      <td>tbl</td>\n",
       "      <td>/home/hagen/data/grad/surfrad/radflux_nc/v1.0/...</td>\n",
       "    </tr>\n",
       "    <tr>\n",
       "      <th>2025-06-19</th>\n",
       "      <td>/home/hagen/data/grad/surfrad/radflux/tbl/2025...</td>\n",
       "      <td>tbl</td>\n",
       "      <td>/home/hagen/data/grad/surfrad/radflux_nc/v1.0/...</td>\n",
       "    </tr>\n",
       "    <tr>\n",
       "      <th>2025-06-20</th>\n",
       "      <td>/home/hagen/data/grad/surfrad/radflux/tbl/2025...</td>\n",
       "      <td>tbl</td>\n",
       "      <td>/home/hagen/data/grad/surfrad/radflux_nc/v1.0/...</td>\n",
       "    </tr>\n",
       "    <tr>\n",
       "      <th>2025-06-21</th>\n",
       "      <td>/home/hagen/data/grad/surfrad/radflux/tbl/2025...</td>\n",
       "      <td>tbl</td>\n",
       "      <td>/home/hagen/data/grad/surfrad/radflux_nc/v1.0/...</td>\n",
       "    </tr>\n",
       "    <tr>\n",
       "      <th>2025-06-22</th>\n",
       "      <td>/home/hagen/data/grad/surfrad/radflux/tbl/2025...</td>\n",
       "      <td>tbl</td>\n",
       "      <td>/home/hagen/data/grad/surfrad/radflux_nc/v1.0/...</td>\n",
       "    </tr>\n",
       "  </tbody>\n",
       "</table>\n",
       "<p>10918 rows × 3 columns</p>\n",
       "</div>"
      ],
      "text/plain": [
       "                                                       p2f_in site  \\\n",
       "date                                                                 \n",
       "1995-08-01  /home/hagen/data/grad/surfrad/radflux/tbl/1995...  tbl   \n",
       "1995-08-02  /home/hagen/data/grad/surfrad/radflux/tbl/1995...  tbl   \n",
       "1995-08-03  /home/hagen/data/grad/surfrad/radflux/tbl/1995...  tbl   \n",
       "1995-08-04  /home/hagen/data/grad/surfrad/radflux/tbl/1995...  tbl   \n",
       "1995-08-05  /home/hagen/data/grad/surfrad/radflux/tbl/1995...  tbl   \n",
       "...                                                       ...  ...   \n",
       "2025-06-18  /home/hagen/data/grad/surfrad/radflux/tbl/2025...  tbl   \n",
       "2025-06-19  /home/hagen/data/grad/surfrad/radflux/tbl/2025...  tbl   \n",
       "2025-06-20  /home/hagen/data/grad/surfrad/radflux/tbl/2025...  tbl   \n",
       "2025-06-21  /home/hagen/data/grad/surfrad/radflux/tbl/2025...  tbl   \n",
       "2025-06-22  /home/hagen/data/grad/surfrad/radflux/tbl/2025...  tbl   \n",
       "\n",
       "                                                      p2f_out  \n",
       "date                                                           \n",
       "1995-08-01  /home/hagen/data/grad/surfrad/radflux_nc/v1.0/...  \n",
       "1995-08-02  /home/hagen/data/grad/surfrad/radflux_nc/v1.0/...  \n",
       "1995-08-03  /home/hagen/data/grad/surfrad/radflux_nc/v1.0/...  \n",
       "1995-08-04  /home/hagen/data/grad/surfrad/radflux_nc/v1.0/...  \n",
       "1995-08-05  /home/hagen/data/grad/surfrad/radflux_nc/v1.0/...  \n",
       "...                                                       ...  \n",
       "2025-06-18  /home/hagen/data/grad/surfrad/radflux_nc/v1.0/...  \n",
       "2025-06-19  /home/hagen/data/grad/surfrad/radflux_nc/v1.0/...  \n",
       "2025-06-20  /home/hagen/data/grad/surfrad/radflux_nc/v1.0/...  \n",
       "2025-06-21  /home/hagen/data/grad/surfrad/radflux_nc/v1.0/...  \n",
       "2025-06-22  /home/hagen/data/grad/surfrad/radflux_nc/v1.0/...  \n",
       "\n",
       "[10918 rows x 3 columns]"
      ]
     },
     "execution_count": 20,
     "metadata": {},
     "output_type": "execute_result"
    }
   ],
   "source": [
    "con.workplan"
   ]
  },
  {
   "cell_type": "code",
   "execution_count": 22,
   "id": "ab23966b-70a5-4509-8be3-9d56556299ca",
   "metadata": {},
   "outputs": [],
   "source": [
    "con.process()"
   ]
  },
  {
   "cell_type": "markdown",
   "id": "8f6eb85d-ae70-40d4-8b37-249acffbf0a6",
   "metadata": {},
   "source": [
    "# resample to reduce load"
   ]
  },
  {
   "cell_type": "code",
   "execution_count": 1,
   "id": "03f37e20-e9dc-4e91-af51-3a21069877aa",
   "metadata": {},
   "outputs": [],
   "source": [
    "p2fld = pl.Path('/home/hagen/data/grad/surfrad/radflux_nc/v1.0/tbl/2018')"
   ]
  },
  {
   "cell_type": "code",
   "execution_count": 2,
   "id": "7ff642d3-95b0-4f00-ac6f-3b622845168c",
   "metadata": {},
   "outputs": [],
   "source": [
    "ds = xr.open_mfdataset(p2fld.glob('*'))"
   ]
  },
  {
   "cell_type": "code",
   "execution_count": 3,
   "id": "c0bcc4e1-86b7-407b-a2f9-5ea55a521ea1",
   "metadata": {},
   "outputs": [],
   "source": [
    "rs = ds.resample(time = '10min')"
   ]
  },
  {
   "cell_type": "code",
   "execution_count": null,
   "id": "46e1a157-0877-4ebd-a564-2c134ade357f",
   "metadata": {},
   "outputs": [],
   "source": [
    "dsm = rs.mean()"
   ]
  },
  {
   "cell_type": "code",
   "execution_count": null,
   "id": "f1d456a3-35fc-48ab-b2ba-37f2ae1e7c6e",
   "metadata": {},
   "outputs": [],
   "source": []
  }
 ],
 "metadata": {
  "kernelspec": {
   "display_name": "py312",
   "language": "python",
   "name": "py312"
  },
  "language_info": {
   "codemirror_mode": {
    "name": "ipython",
    "version": 3
   },
   "file_extension": ".py",
   "mimetype": "text/x-python",
   "name": "python",
   "nbconvert_exporter": "python",
   "pygments_lexer": "ipython3",
   "version": "3.12.11"
  }
 },
 "nbformat": 4,
 "nbformat_minor": 5
}
