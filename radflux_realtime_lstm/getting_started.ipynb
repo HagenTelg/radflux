{
 "cells": [
  {
   "cell_type": "markdown",
   "id": "1190edee-2ae7-4d9c-97c9-9ed14db53ad5",
   "metadata": {},
   "source": [
    "# Info"
   ]
  },
  {
   "cell_type": "markdown",
   "id": "7a13d68a-a606-4d5c-b9a6-86ee00b97c55",
   "metadata": {},
   "source": [
    "build with help from chat gpt: https://chatgpt.com/c/6877d186-2e5c-8007-91e0-4d0b4296e470"
   ]
  },
  {
   "cell_type": "markdown",
   "id": "7e73a8f5-c6a8-48b4-a62b-15c297e8369d",
   "metadata": {},
   "source": [
    "# TODO"
   ]
  },
  {
   "cell_type": "markdown",
   "id": "2dea8889-0582-4fee-b238-bd68d90abc5d",
   "metadata": {},
   "source": [
    "- further stategieze training\n",
    "  - don't use all or random, look into using particular cases\n",
    "- what is exactly ment with normalizing, can we improve on that, or use log instead of linear\n",
    "- \n",
    "  "
   ]
  },
  {
   "cell_type": "code",
   "execution_count": null,
   "id": "f74522d1-9dfb-4645-9fe2-95e33ed771d7",
   "metadata": {},
   "outputs": [],
   "source": []
  },
  {
   "cell_type": "markdown",
   "id": "36755eac-6949-44d5-b99d-13a3f76f5c07",
   "metadata": {},
   "source": [
    "# Building Training Samples"
   ]
  },
  {
   "cell_type": "code",
   "execution_count": 1,
   "id": "da88590e-4981-4e96-ad3a-d360584c0f26",
   "metadata": {},
   "outputs": [],
   "source": [
    "import xarray as xr\n",
    "import numpy as np\n",
    "import pandas as pd"
   ]
  },
  {
   "cell_type": "code",
   "execution_count": 6,
   "id": "f7947f21-3059-4c07-99e3-c4f6a0fd2836",
   "metadata": {},
   "outputs": [],
   "source": [
    "# Load your full dataset (SURFRAD + RADFLUX output)\n",
    "# Dimensions: time, variable\n"
   ]
  },
  {
   "cell_type": "code",
   "execution_count": 1,
   "id": "7b9ca73a-1f4c-44b0-bcf4-ef6725312f06",
   "metadata": {
    "scrolled": true
   },
   "outputs": [],
   "source": [
    "import atmPy.data_archives.NOAA_ESRL_GMD_GRAD.surfrad.surfrad as atmsrf"
   ]
  },
  {
   "cell_type": "code",
   "execution_count": 5,
   "id": "de331e2d-9b08-456a-9e30-4c5c164c84e8",
   "metadata": {},
   "outputs": [],
   "source": []
  },
  {
   "cell_type": "code",
   "execution_count": null,
   "id": "81c4b0a5-c4ca-488f-8bba-364897f4e776",
   "metadata": {},
   "outputs": [],
   "source": []
  },
  {
   "cell_type": "code",
   "execution_count": 3,
   "id": "acea127f-7ee3-4258-a3e7-9da3e46b8cb0",
   "metadata": {},
   "outputs": [],
   "source": [
    "p2f = pl.Path('/home/hagen/data/grad/surfrad/radflux_nc/v1.0/tbl/2018/')"
   ]
  },
  {
   "cell_type": "code",
   "execution_count": 4,
   "id": "4d855fd3-0922-4594-bf3c-e17497add854",
   "metadata": {},
   "outputs": [
    {
     "ename": "AssertionError",
     "evalue": "noenoenoe",
     "output_type": "error",
     "traceback": [
      "\u001b[31m---------------------------------------------------------------------------\u001b[39m",
      "\u001b[31mAssertionError\u001b[39m                            Traceback (most recent call last)",
      "\u001b[36mCell\u001b[39m\u001b[36m \u001b[39m\u001b[32mIn[4]\u001b[39m\u001b[32m, line 1\u001b[39m\n\u001b[32m----> \u001b[39m\u001b[32m1\u001b[39m \u001b[43matmsrf\u001b[49m\u001b[43m.\u001b[49m\u001b[43mopen_path\u001b[49m\u001b[43m(\u001b[49m\u001b[43mp2f\u001b[49m\u001b[43m)\u001b[49m\n",
      "\u001b[36mFile \u001b[39m\u001b[32m~/prog/atm-py/atmPy/data_archives/NOAA_ESRL_GMD_GRAD/surfrad/surfrad.py:1207\u001b[39m, in \u001b[36mopen_path\u001b[39m\u001b[34m(path, product, site, window, cloud_sceened, local2UTC, perform_header_test, verbose, fill_gaps, keep_original_data, test)\u001b[39m\n\u001b[32m   1205\u001b[39m     \u001b[38;5;28;01mreturn\u001b[39;00m saod\n\u001b[32m   1206\u001b[39m \u001b[38;5;28;01melse\u001b[39;00m:\n\u001b[32m-> \u001b[39m\u001b[32m1207\u001b[39m     \u001b[38;5;28;01massert\u001b[39;00m(\u001b[38;5;28;01mFalse\u001b[39;00m), \u001b[33m'\u001b[39m\u001b[33mnoenoenoe\u001b[39m\u001b[33m'\u001b[39m\n",
      "\u001b[31mAssertionError\u001b[39m: noenoenoe"
     ]
    }
   ],
   "source": [
    "ds = xr.open_mfdataset(p2f."
   ]
  },
  {
   "cell_type": "code",
   "execution_count": null,
   "id": "3fd1158a-bb4d-454e-93e6-a303249b49ce",
   "metadata": {},
   "outputs": [],
   "source": []
  },
  {
   "cell_type": "code",
   "execution_count": null,
   "id": "f4440919-1a6f-49de-b88b-0bc57227485b",
   "metadata": {},
   "outputs": [],
   "source": [
    "import surf"
   ]
  },
  {
   "cell_type": "code",
   "execution_count": null,
   "id": "5f105864-20bc-421f-a3b8-252ef3589111",
   "metadata": {},
   "outputs": [],
   "source": [
    "# Parameters\n",
    "window_days = 30\n",
    "dt_minutes = 15\n",
    "samples_per_year = 24 * (60 // dt_minutes) * 365  # ~35000 per year\n",
    "\n",
    "window_len = window_days * 24 * (60 // dt_minutes)  # number of time steps in window"
   ]
  }
 ],
 "metadata": {
  "kernelspec": {
   "display_name": "py312",
   "language": "python",
   "name": "py312"
  },
  "language_info": {
   "codemirror_mode": {
    "name": "ipython",
    "version": 3
   },
   "file_extension": ".py",
   "mimetype": "text/x-python",
   "name": "python",
   "nbconvert_exporter": "python",
   "pygments_lexer": "ipython3",
   "version": "3.12.11"
  }
 },
 "nbformat": 4,
 "nbformat_minor": 5
}
