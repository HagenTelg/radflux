{
 "cells": [
  {
   "cell_type": "markdown",
   "id": "1190edee-2ae7-4d9c-97c9-9ed14db53ad5",
   "metadata": {},
   "source": [
    "# Info"
   ]
  },
  {
   "cell_type": "markdown",
   "id": "7a13d68a-a606-4d5c-b9a6-86ee00b97c55",
   "metadata": {},
   "source": [
    "build with help from chat gpt: https://chatgpt.com/c/6877d186-2e5c-8007-91e0-4d0b4296e470"
   ]
  },
  {
   "cell_type": "markdown",
   "id": "36755eac-6949-44d5-b99d-13a3f76f5c07",
   "metadata": {},
   "source": [
    "# Building Training Samples"
   ]
  },
  {
   "cell_type": "code",
   "execution_count": null,
   "id": "7bb02d52-e672-4ebf-8e6e-fd0032e00e9e",
   "metadata": {},
   "outputs": [],
   "source": [
    "import "
   ]
  }
 ],
 "metadata": {
  "kernelspec": {
   "display_name": "py312",
   "language": "python",
   "name": "py312"
  },
  "language_info": {
   "codemirror_mode": {
    "name": "ipython",
    "version": 3
   },
   "file_extension": ".py",
   "mimetype": "text/x-python",
   "name": "python",
   "nbconvert_exporter": "python",
   "pygments_lexer": "ipython3",
   "version": "3.12.11"
  }
 },
 "nbformat": 4,
 "nbformat_minor": 5
}
